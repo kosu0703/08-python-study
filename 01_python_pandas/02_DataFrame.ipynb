{
 "cells": [
  {
   "cell_type": "markdown",
   "id": "7c59a7f8-735e-49ab-82fb-6fbfb2477590",
   "metadata": {},
   "source": [
    "# 02.DataFrame\n",
    "\n",
    "- 엑셀의 표 형태로 구성된 데이터 분석의 가장 기본적인 자료 구조\n",
    "- **열**과 **행**로 구성된다.\n",
    "    - **열** : column 이나 변수라고 부른다.\n",
    "    - **행** : row 나 index 라고 부른다.\n",
    "- `열 > 행` 순으로 값에 접근한다.\n",
    "\n",
    "## #1. 필수 패키지 참조\n",
    "\n",
    "### 1) xlsx 파일을 불러오기 위한 의존성 설치\n",
    "엑셀 파일로 부터 DataFrame 을 생성하기 위해서는 \n",
    "pandas 모듈 내의 ExcelFile 클래스가 의존하는 모듈들을 추가적으로 설치해야한다.\n",
    "```\n",
    "    pip install --upgrade openpyxl\n",
    "    pip install --upgrade xlrd\n",
    "```"
   ]
  },
  {
   "cell_type": "code",
   "execution_count": 1,
   "id": "2bddf0a6-b03d-4a77-a03d-cbd81e4ed783",
   "metadata": {},
   "outputs": [],
   "source": [
    "from pandas import DataFrame\n",
    "from pandas import read_csv\n",
    "from pandas import ExcelFile"
   ]
  },
  {
   "cell_type": "markdown",
   "id": "b916c176-5701-4af1-b6e1-a0eb1d78a1b1",
   "metadata": {},
   "source": [
    "## #2. 데이터프레임을 생성하기\n",
    "리턴 받을 객체 = DataFrame(데이터, index=[인덱스이름을 위한 리스트], columns=[컬럼이름을 위한 리스트])\n",
    "\n",
    "### 1) 데이터의 종류\n",
    "1. 2차원 리스트\n",
    "2. 리스트를 원소로 갖는 딕셔너리\n",
    "3. 동일한 구조를 갖는 딕셔너리들이 모인 리스트\n",
    "4. csv 파일\n",
    "5. xlsx 파일"
   ]
  },
  {
   "cell_type": "markdown",
   "id": "608717d2-275b-4054-9deb-acd555d956fa",
   "metadata": {},
   "source": [
    "### 2) 2차원 리스트를 활용한 DataFrame 생성\n",
    "\n",
    "#### 기본생성\n",
    "\n",
    "각각의 1차원 리스트를 DataFrame 에서 하나의 행으로 지정\n",
    "\n",
    "컬럼과 인덱스 이름은 0 부터 순차적으로 일련번호가 부여된다.\n",
    "\n",
    "> DataFrame 에서 빈값은 None 으로 지정한다.<br>\n",
    "이는 조사과정에서 측정되지 않은 상태를 의미하며,<br>\n",
    "이러한 형태의 빈 값을 **결측치**라고 한다."
   ]
  },
  {
   "cell_type": "code",
   "execution_count": 2,
   "id": "d279e19c-710e-4513-88e6-d522ee44d530",
   "metadata": {},
   "outputs": [
    {
     "data": {
      "text/html": [
       "<div>\n",
       "<style scoped>\n",
       "    .dataframe tbody tr th:only-of-type {\n",
       "        vertical-align: middle;\n",
       "    }\n",
       "\n",
       "    .dataframe tbody tr th {\n",
       "        vertical-align: top;\n",
       "    }\n",
       "\n",
       "    .dataframe thead th {\n",
       "        text-align: right;\n",
       "    }\n",
       "</style>\n",
       "<table border=\"1\" class=\"dataframe\">\n",
       "  <thead>\n",
       "    <tr style=\"text-align: right;\">\n",
       "      <th></th>\n",
       "      <th>0</th>\n",
       "      <th>1</th>\n",
       "      <th>2</th>\n",
       "      <th>3</th>\n",
       "      <th>4</th>\n",
       "      <th>5</th>\n",
       "    </tr>\n",
       "  </thead>\n",
       "  <tbody>\n",
       "    <tr>\n",
       "      <th>0</th>\n",
       "      <td>1</td>\n",
       "      <td>남자</td>\n",
       "      <td>98</td>\n",
       "      <td>88</td>\n",
       "      <td>64.0</td>\n",
       "      <td>NaN</td>\n",
       "    </tr>\n",
       "    <tr>\n",
       "      <th>1</th>\n",
       "      <td>2</td>\n",
       "      <td>여자</td>\n",
       "      <td>88</td>\n",
       "      <td>90</td>\n",
       "      <td>62.0</td>\n",
       "      <td>72.0</td>\n",
       "    </tr>\n",
       "    <tr>\n",
       "      <th>2</th>\n",
       "      <td>1</td>\n",
       "      <td>남자</td>\n",
       "      <td>92</td>\n",
       "      <td>70</td>\n",
       "      <td>NaN</td>\n",
       "      <td>NaN</td>\n",
       "    </tr>\n",
       "    <tr>\n",
       "      <th>3</th>\n",
       "      <td>3</td>\n",
       "      <td>여자</td>\n",
       "      <td>63</td>\n",
       "      <td>60</td>\n",
       "      <td>31.0</td>\n",
       "      <td>70.0</td>\n",
       "    </tr>\n",
       "    <tr>\n",
       "      <th>4</th>\n",
       "      <td>4</td>\n",
       "      <td>남자</td>\n",
       "      <td>120</td>\n",
       "      <td>50</td>\n",
       "      <td>NaN</td>\n",
       "      <td>88.0</td>\n",
       "    </tr>\n",
       "  </tbody>\n",
       "</table>\n",
       "</div>"
      ],
      "text/plain": [
       "   0   1    2   3     4     5\n",
       "0  1  남자   98  88  64.0   NaN\n",
       "1  2  여자   88  90  62.0  72.0\n",
       "2  1  남자   92  70   NaN   NaN\n",
       "3  3  여자   63  60  31.0  70.0\n",
       "4  4  남자  120  50   NaN  88.0"
      ]
     },
     "execution_count": 2,
     "metadata": {},
     "output_type": "execute_result"
    }
   ],
   "source": [
    "source = [\n",
    "    [1, '남자', 98,88,64] ,\n",
    "    [2, '여자', 88,90,62,72] ,\n",
    "    [1, '남자', 92,70,None,None] ,\n",
    "    [3, '여자', 63,60,31,70] ,\n",
    "    [4, '남자', 120,50,None,88]\n",
    "]\n",
    "df = DataFrame(source)\n",
    "df"
   ]
  },
  {
   "cell_type": "markdown",
   "id": "13f63370-afb2-4df0-bc0b-c139922c8232",
   "metadata": {},
   "source": [
    "#### 컬럼과 인덱스 이름 지정하기"
   ]
  },
  {
   "cell_type": "code",
   "execution_count": 3,
   "id": "3fd6f855-1f43-42e2-ae11-d75ac8eade03",
   "metadata": {},
   "outputs": [
    {
     "data": {
      "text/html": [
       "<div>\n",
       "<style scoped>\n",
       "    .dataframe tbody tr th:only-of-type {\n",
       "        vertical-align: middle;\n",
       "    }\n",
       "\n",
       "    .dataframe tbody tr th {\n",
       "        vertical-align: top;\n",
       "    }\n",
       "\n",
       "    .dataframe thead th {\n",
       "        text-align: right;\n",
       "    }\n",
       "</style>\n",
       "<table border=\"1\" class=\"dataframe\">\n",
       "  <thead>\n",
       "    <tr style=\"text-align: right;\">\n",
       "      <th></th>\n",
       "      <th>학년</th>\n",
       "      <th>성별</th>\n",
       "      <th>국어</th>\n",
       "      <th>영어</th>\n",
       "      <th>수학</th>\n",
       "      <th>과학</th>\n",
       "    </tr>\n",
       "  </thead>\n",
       "  <tbody>\n",
       "    <tr>\n",
       "      <th>철수</th>\n",
       "      <td>1</td>\n",
       "      <td>남자</td>\n",
       "      <td>98</td>\n",
       "      <td>88</td>\n",
       "      <td>64.0</td>\n",
       "      <td>NaN</td>\n",
       "    </tr>\n",
       "    <tr>\n",
       "      <th>영희</th>\n",
       "      <td>2</td>\n",
       "      <td>여자</td>\n",
       "      <td>88</td>\n",
       "      <td>90</td>\n",
       "      <td>62.0</td>\n",
       "      <td>72.0</td>\n",
       "    </tr>\n",
       "    <tr>\n",
       "      <th>민수</th>\n",
       "      <td>1</td>\n",
       "      <td>남자</td>\n",
       "      <td>92</td>\n",
       "      <td>70</td>\n",
       "      <td>NaN</td>\n",
       "      <td>NaN</td>\n",
       "    </tr>\n",
       "    <tr>\n",
       "      <th>수현</th>\n",
       "      <td>3</td>\n",
       "      <td>여자</td>\n",
       "      <td>63</td>\n",
       "      <td>60</td>\n",
       "      <td>31.0</td>\n",
       "      <td>70.0</td>\n",
       "    </tr>\n",
       "    <tr>\n",
       "      <th>호영</th>\n",
       "      <td>4</td>\n",
       "      <td>남자</td>\n",
       "      <td>120</td>\n",
       "      <td>50</td>\n",
       "      <td>NaN</td>\n",
       "      <td>88.0</td>\n",
       "    </tr>\n",
       "  </tbody>\n",
       "</table>\n",
       "</div>"
      ],
      "text/plain": [
       "    학년  성별   국어  영어    수학    과학\n",
       "철수   1  남자   98  88  64.0   NaN\n",
       "영희   2  여자   88  90  62.0  72.0\n",
       "민수   1  남자   92  70   NaN   NaN\n",
       "수현   3  여자   63  60  31.0  70.0\n",
       "호영   4  남자  120  50   NaN  88.0"
      ]
     },
     "execution_count": 3,
     "metadata": {},
     "output_type": "execute_result"
    }
   ],
   "source": [
    "df = DataFrame(source, \n",
    "               index=['철수','영희','민수','수현','호영'],\n",
    "               columns=['학년','성별','국어','영어','수학','과학'])\n",
    "df"
   ]
  },
  {
   "cell_type": "markdown",
   "id": "3245bd91-88dc-49db-a5a0-b914363849cb",
   "metadata": {},
   "source": [
    "### 3) 리스트를 원소로 갖는 딕셔너리를 사용한 DataFrame 생성\n",
    "\n",
    "딕셔너리의 `key` 가 `컬럼의 이름`으로 사용되기 때문에 `index` 만 `추가`적으로 지정한다."
   ]
  },
  {
   "cell_type": "code",
   "execution_count": 4,
   "id": "fdb0a513-d1da-4f28-9269-ce67a59becac",
   "metadata": {},
   "outputs": [
    {
     "data": {
      "text/html": [
       "<div>\n",
       "<style scoped>\n",
       "    .dataframe tbody tr th:only-of-type {\n",
       "        vertical-align: middle;\n",
       "    }\n",
       "\n",
       "    .dataframe tbody tr th {\n",
       "        vertical-align: top;\n",
       "    }\n",
       "\n",
       "    .dataframe thead th {\n",
       "        text-align: right;\n",
       "    }\n",
       "</style>\n",
       "<table border=\"1\" class=\"dataframe\">\n",
       "  <thead>\n",
       "    <tr style=\"text-align: right;\">\n",
       "      <th></th>\n",
       "      <th>학년</th>\n",
       "      <th>성별</th>\n",
       "      <th>국어</th>\n",
       "      <th>영어</th>\n",
       "      <th>수학</th>\n",
       "      <th>과학</th>\n",
       "    </tr>\n",
       "  </thead>\n",
       "  <tbody>\n",
       "    <tr>\n",
       "      <th>철수</th>\n",
       "      <td>1</td>\n",
       "      <td>남자</td>\n",
       "      <td>98</td>\n",
       "      <td>88</td>\n",
       "      <td>64.0</td>\n",
       "      <td>NaN</td>\n",
       "    </tr>\n",
       "    <tr>\n",
       "      <th>영희</th>\n",
       "      <td>2</td>\n",
       "      <td>여자</td>\n",
       "      <td>88</td>\n",
       "      <td>90</td>\n",
       "      <td>62.0</td>\n",
       "      <td>72.0</td>\n",
       "    </tr>\n",
       "    <tr>\n",
       "      <th>민수</th>\n",
       "      <td>1</td>\n",
       "      <td>남자</td>\n",
       "      <td>92</td>\n",
       "      <td>70</td>\n",
       "      <td>NaN</td>\n",
       "      <td>NaN</td>\n",
       "    </tr>\n",
       "    <tr>\n",
       "      <th>수현</th>\n",
       "      <td>3</td>\n",
       "      <td>여자</td>\n",
       "      <td>63</td>\n",
       "      <td>60</td>\n",
       "      <td>31.0</td>\n",
       "      <td>70.0</td>\n",
       "    </tr>\n",
       "    <tr>\n",
       "      <th>호영</th>\n",
       "      <td>4</td>\n",
       "      <td>남자</td>\n",
       "      <td>120</td>\n",
       "      <td>50</td>\n",
       "      <td>NaN</td>\n",
       "      <td>88.0</td>\n",
       "    </tr>\n",
       "  </tbody>\n",
       "</table>\n",
       "</div>"
      ],
      "text/plain": [
       "    학년  성별   국어  영어    수학    과학\n",
       "철수   1  남자   98  88  64.0   NaN\n",
       "영희   2  여자   88  90  62.0  72.0\n",
       "민수   1  남자   92  70   NaN   NaN\n",
       "수현   3  여자   63  60  31.0  70.0\n",
       "호영   4  남자  120  50   NaN  88.0"
      ]
     },
     "execution_count": 4,
     "metadata": {},
     "output_type": "execute_result"
    }
   ],
   "source": [
    "source = {\n",
    "    '학년' : [1,2,1,3,4],\n",
    "    '성별' : ['남자','여자','남자','여자','남자'],\n",
    "    '국어' : [98,88,92,63,120],\n",
    "    '영어' : [88,90,70,60,50],\n",
    "    '수학' : [64,62,None,31,None],\n",
    "    '과학' : [None,72,None,70,88]\n",
    "}\n",
    "\n",
    "df = DataFrame(source,index=['철수','영희','민수','수현','호영'])\n",
    "df"
   ]
  },
  {
   "cell_type": "markdown",
   "id": "cffa6535-0d10-4fd9-ac3a-17abefbc457d",
   "metadata": {},
   "source": [
    "### 4) `동일한 구조`를 갖는 딕셔너리들이 모인 리스트를 사용한 DataFrame 생성\n",
    "딕셔너리의 **key** 가 `컬럼의 이름`으로 사용되기 때문에 **index** 만 `추가`적으로 지정한다."
   ]
  },
  {
   "cell_type": "code",
   "execution_count": 5,
   "id": "d1b038d8-7273-4f67-8e88-07c143d43482",
   "metadata": {},
   "outputs": [
    {
     "data": {
      "text/html": [
       "<div>\n",
       "<style scoped>\n",
       "    .dataframe tbody tr th:only-of-type {\n",
       "        vertical-align: middle;\n",
       "    }\n",
       "\n",
       "    .dataframe tbody tr th {\n",
       "        vertical-align: top;\n",
       "    }\n",
       "\n",
       "    .dataframe thead th {\n",
       "        text-align: right;\n",
       "    }\n",
       "</style>\n",
       "<table border=\"1\" class=\"dataframe\">\n",
       "  <thead>\n",
       "    <tr style=\"text-align: right;\">\n",
       "      <th></th>\n",
       "      <th>학년</th>\n",
       "      <th>성별</th>\n",
       "      <th>국어</th>\n",
       "      <th>영어</th>\n",
       "      <th>수학</th>\n",
       "      <th>과학</th>\n",
       "    </tr>\n",
       "  </thead>\n",
       "  <tbody>\n",
       "    <tr>\n",
       "      <th>철수</th>\n",
       "      <td>1</td>\n",
       "      <td>남자</td>\n",
       "      <td>98</td>\n",
       "      <td>88</td>\n",
       "      <td>64.0</td>\n",
       "      <td>NaN</td>\n",
       "    </tr>\n",
       "    <tr>\n",
       "      <th>영희</th>\n",
       "      <td>2</td>\n",
       "      <td>여자</td>\n",
       "      <td>88</td>\n",
       "      <td>90</td>\n",
       "      <td>62.0</td>\n",
       "      <td>72.0</td>\n",
       "    </tr>\n",
       "    <tr>\n",
       "      <th>민수</th>\n",
       "      <td>1</td>\n",
       "      <td>남자</td>\n",
       "      <td>92</td>\n",
       "      <td>70</td>\n",
       "      <td>NaN</td>\n",
       "      <td>NaN</td>\n",
       "    </tr>\n",
       "    <tr>\n",
       "      <th>수현</th>\n",
       "      <td>3</td>\n",
       "      <td>여자</td>\n",
       "      <td>63</td>\n",
       "      <td>60</td>\n",
       "      <td>31.0</td>\n",
       "      <td>70.0</td>\n",
       "    </tr>\n",
       "    <tr>\n",
       "      <th>호영</th>\n",
       "      <td>4</td>\n",
       "      <td>남자</td>\n",
       "      <td>120</td>\n",
       "      <td>50</td>\n",
       "      <td>NaN</td>\n",
       "      <td>88.0</td>\n",
       "    </tr>\n",
       "  </tbody>\n",
       "</table>\n",
       "</div>"
      ],
      "text/plain": [
       "    학년  성별   국어  영어    수학    과학\n",
       "철수   1  남자   98  88  64.0   NaN\n",
       "영희   2  여자   88  90  62.0  72.0\n",
       "민수   1  남자   92  70   NaN   NaN\n",
       "수현   3  여자   63  60  31.0  70.0\n",
       "호영   4  남자  120  50   NaN  88.0"
      ]
     },
     "execution_count": 5,
     "metadata": {},
     "output_type": "execute_result"
    }
   ],
   "source": [
    "source = [\n",
    "    {'학년':1, '성별':'남자', '국어':98, '영어':88,'수학':64,'과학':None},\n",
    "    {'학년':2, '성별':'여자', '국어':88, '영어':90,'수학':62,'과학':72},\n",
    "    {'학년':1, '성별':'남자', '국어':92, '영어':70,'수학':None,'과학':None},\n",
    "    {'학년':3, '성별':'여자', '국어':63, '영어':60,'수학':31,'과학':70},\n",
    "    {'학년':4, '성별':'남자', '국어':120, '영어':50,'수학':None,'과학':88},\n",
    "]\n",
    "df = DataFrame(source,index=['철수','영희','민수','수현','호영'])\n",
    "df"
   ]
  },
  {
   "cell_type": "markdown",
   "id": "c6ef387b-3e58-4107-b4c5-a807b91c6724",
   "metadata": {},
   "source": [
    "### 5) CSV 파일을 DataFrame 으로 변환하기\n",
    "\n",
    "#### 리턴받을 객체 = read_csv(\"파일경로\", encoding=\"euc-kr | utf-8\")\n",
    "\n",
    "* `encoding` 의 기본값은 `utf-8`\n",
    "    - MS-Office 2019 미만 버전에서 생성한 경우, 무조건 `euc-kr`\n",
    "      \n",
    "> 외부에서 csv 나 xlsx 파일을 가져오는 경우, index 가 인식되지 않기 때문에 <br>\n",
    "특정 컬럼 값들을 index 로 지정하고, 그 컬럼을 삭제하는 전처리가 필요하다.(나중에..)"
   ]
  },
  {
   "cell_type": "code",
   "execution_count": 6,
   "id": "d1da34a6-b242-4d12-9557-2a2e146c7054",
   "metadata": {},
   "outputs": [
    {
     "data": {
      "text/html": [
       "<div>\n",
       "<style scoped>\n",
       "    .dataframe tbody tr th:only-of-type {\n",
       "        vertical-align: middle;\n",
       "    }\n",
       "\n",
       "    .dataframe tbody tr th {\n",
       "        vertical-align: top;\n",
       "    }\n",
       "\n",
       "    .dataframe thead th {\n",
       "        text-align: right;\n",
       "    }\n",
       "</style>\n",
       "<table border=\"1\" class=\"dataframe\">\n",
       "  <thead>\n",
       "    <tr style=\"text-align: right;\">\n",
       "      <th></th>\n",
       "      <th>이름</th>\n",
       "      <th>학년</th>\n",
       "      <th>성별</th>\n",
       "      <th>국어</th>\n",
       "      <th>영어</th>\n",
       "      <th>수학</th>\n",
       "      <th>과학</th>\n",
       "    </tr>\n",
       "  </thead>\n",
       "  <tbody>\n",
       "    <tr>\n",
       "      <th>0</th>\n",
       "      <td>철수</td>\n",
       "      <td>1</td>\n",
       "      <td>남자</td>\n",
       "      <td>98</td>\n",
       "      <td>NaN</td>\n",
       "      <td>88.0</td>\n",
       "      <td>64.0</td>\n",
       "    </tr>\n",
       "    <tr>\n",
       "      <th>1</th>\n",
       "      <td>영희</td>\n",
       "      <td>2</td>\n",
       "      <td>여자</td>\n",
       "      <td>88</td>\n",
       "      <td>90.0</td>\n",
       "      <td>62.0</td>\n",
       "      <td>72.0</td>\n",
       "    </tr>\n",
       "    <tr>\n",
       "      <th>2</th>\n",
       "      <td>민수</td>\n",
       "      <td>1</td>\n",
       "      <td>남자</td>\n",
       "      <td>92</td>\n",
       "      <td>70.0</td>\n",
       "      <td>NaN</td>\n",
       "      <td>NaN</td>\n",
       "    </tr>\n",
       "    <tr>\n",
       "      <th>3</th>\n",
       "      <td>수현</td>\n",
       "      <td>3</td>\n",
       "      <td>여자</td>\n",
       "      <td>63</td>\n",
       "      <td>60.0</td>\n",
       "      <td>31.0</td>\n",
       "      <td>70.0</td>\n",
       "    </tr>\n",
       "    <tr>\n",
       "      <th>4</th>\n",
       "      <td>호영</td>\n",
       "      <td>4</td>\n",
       "      <td>남자</td>\n",
       "      <td>120</td>\n",
       "      <td>50.0</td>\n",
       "      <td>NaN</td>\n",
       "      <td>88.0</td>\n",
       "    </tr>\n",
       "  </tbody>\n",
       "</table>\n",
       "</div>"
      ],
      "text/plain": [
       "   이름  학년  성별   국어    영어    수학    과학\n",
       "0  철수   1  남자   98   NaN  88.0  64.0\n",
       "1  영희   2  여자   88  90.0  62.0  72.0\n",
       "2  민수   1  남자   92  70.0   NaN   NaN\n",
       "3  수현   3  여자   63  60.0  31.0  70.0\n",
       "4  호영   4  남자  120  50.0   NaN  88.0"
      ]
     },
     "execution_count": 6,
     "metadata": {},
     "output_type": "execute_result"
    }
   ],
   "source": [
    "df1 = read_csv('grade.csv', encoding=\"euc-kr\")\n",
    "df1"
   ]
  },
  {
   "cell_type": "markdown",
   "id": "654e6d33-11fa-4de6-b06b-d244f0b62325",
   "metadata": {},
   "source": [
    "#### 서버에서 불러오기(Spring mvc 기준, webapp 안에 resources 안에 data 폴더 만들고 데이터 넣기)"
   ]
  },
  {
   "cell_type": "code",
   "execution_count": 7,
   "id": "66efa2d2-e2cb-4dc3-93f5-4b1fea2db97c",
   "metadata": {},
   "outputs": [
    {
     "data": {
      "text/html": [
       "<div>\n",
       "<style scoped>\n",
       "    .dataframe tbody tr th:only-of-type {\n",
       "        vertical-align: middle;\n",
       "    }\n",
       "\n",
       "    .dataframe tbody tr th {\n",
       "        vertical-align: top;\n",
       "    }\n",
       "\n",
       "    .dataframe thead th {\n",
       "        text-align: right;\n",
       "    }\n",
       "</style>\n",
       "<table border=\"1\" class=\"dataframe\">\n",
       "  <thead>\n",
       "    <tr style=\"text-align: right;\">\n",
       "      <th></th>\n",
       "      <th>이름</th>\n",
       "      <th>학년</th>\n",
       "      <th>성별</th>\n",
       "      <th>국어</th>\n",
       "      <th>영어</th>\n",
       "      <th>수학</th>\n",
       "      <th>과학</th>\n",
       "    </tr>\n",
       "  </thead>\n",
       "  <tbody>\n",
       "    <tr>\n",
       "      <th>0</th>\n",
       "      <td>철수</td>\n",
       "      <td>1</td>\n",
       "      <td>남자</td>\n",
       "      <td>98</td>\n",
       "      <td>NaN</td>\n",
       "      <td>88.0</td>\n",
       "      <td>64.0</td>\n",
       "    </tr>\n",
       "    <tr>\n",
       "      <th>1</th>\n",
       "      <td>영희</td>\n",
       "      <td>2</td>\n",
       "      <td>여자</td>\n",
       "      <td>88</td>\n",
       "      <td>90.0</td>\n",
       "      <td>62.0</td>\n",
       "      <td>72.0</td>\n",
       "    </tr>\n",
       "    <tr>\n",
       "      <th>2</th>\n",
       "      <td>민수</td>\n",
       "      <td>1</td>\n",
       "      <td>남자</td>\n",
       "      <td>92</td>\n",
       "      <td>70.0</td>\n",
       "      <td>NaN</td>\n",
       "      <td>NaN</td>\n",
       "    </tr>\n",
       "    <tr>\n",
       "      <th>3</th>\n",
       "      <td>수현</td>\n",
       "      <td>3</td>\n",
       "      <td>여자</td>\n",
       "      <td>63</td>\n",
       "      <td>60.0</td>\n",
       "      <td>31.0</td>\n",
       "      <td>70.0</td>\n",
       "    </tr>\n",
       "    <tr>\n",
       "      <th>4</th>\n",
       "      <td>호영</td>\n",
       "      <td>4</td>\n",
       "      <td>남자</td>\n",
       "      <td>120</td>\n",
       "      <td>50.0</td>\n",
       "      <td>NaN</td>\n",
       "      <td>88.0</td>\n",
       "    </tr>\n",
       "  </tbody>\n",
       "</table>\n",
       "</div>"
      ],
      "text/plain": [
       "   이름  학년  성별   국어    영어    수학    과학\n",
       "0  철수   1  남자   98   NaN  88.0  64.0\n",
       "1  영희   2  여자   88  90.0  62.0  72.0\n",
       "2  민수   1  남자   92  70.0   NaN   NaN\n",
       "3  수현   3  여자   63  60.0  31.0  70.0\n",
       "4  호영   4  남자  120  50.0   NaN  88.0"
      ]
     },
     "execution_count": 7,
     "metadata": {},
     "output_type": "execute_result"
    }
   ],
   "source": [
    "df = read_csv(\"http://localhost:8090/resources/data/grade.csv\", encoding=\"euc-kr\")\n",
    "df"
   ]
  },
  {
   "cell_type": "code",
   "execution_count": 8,
   "id": "7673ec06-5808-47ba-b042-4c69cc688f52",
   "metadata": {},
   "outputs": [
    {
     "name": "stdout",
     "output_type": "stream",
     "text": [
      "Requirement already satisfied: openpyxl in c:\\users\\ict05-17\\anaconda3\\lib\\site-packages (3.1.2)\n",
      "Requirement already satisfied: et-xmlfile in c:\\users\\ict05-17\\anaconda3\\lib\\site-packages (from openpyxl) (1.1.0)\n",
      "Requirement already satisfied: xlrd in c:\\users\\ict05-17\\anaconda3\\lib\\site-packages (2.0.1)\n",
      "Requirement already satisfied: pandas in c:\\users\\ict05-17\\anaconda3\\lib\\site-packages (2.2.2)\n",
      "Requirement already satisfied: numpy>=1.23.2 in c:\\users\\ict05-17\\anaconda3\\lib\\site-packages (from pandas) (1.26.4)\n",
      "Requirement already satisfied: python-dateutil>=2.8.2 in c:\\users\\ict05-17\\anaconda3\\lib\\site-packages (from pandas) (2.8.2)\n",
      "Requirement already satisfied: pytz>=2020.1 in c:\\users\\ict05-17\\anaconda3\\lib\\site-packages (from pandas) (2023.3.post1)\n",
      "Requirement already satisfied: tzdata>=2022.7 in c:\\users\\ict05-17\\anaconda3\\lib\\site-packages (from pandas) (2023.3)\n",
      "Requirement already satisfied: six>=1.5 in c:\\users\\ict05-17\\anaconda3\\lib\\site-packages (from python-dateutil>=2.8.2->pandas) (1.16.0)\n"
     ]
    }
   ],
   "source": [
    "!pip install --upgrade openpyxl\n",
    "!pip install --upgrade xlrd\n",
    "!pip install --upgrade pandas"
   ]
  },
  {
   "cell_type": "markdown",
   "id": "aa316b54-ad91-409d-9c5c-adafde29f0d2",
   "metadata": {},
   "source": [
    "### 6) xlsx 파일을 DataFrame 으로 변환하기\n",
    "\n",
    "#### 1. 엑셀파일을 객체 형태로 가져온다."
   ]
  },
  {
   "cell_type": "code",
   "execution_count": 9,
   "id": "548821a5-8915-4f77-8d1f-2959efc73dfb",
   "metadata": {},
   "outputs": [
    {
     "data": {
      "text/plain": [
       "<pandas.io.excel._base.ExcelFile at 0x229745e0ad0>"
      ]
     },
     "execution_count": 9,
     "metadata": {},
     "output_type": "execute_result"
    }
   ],
   "source": [
    "xls1 = ExcelFile('grade.xlsx')\n",
    "xls1"
   ]
  },
  {
   "cell_type": "markdown",
   "id": "474c81fc-fa56-4987-b5d1-9ebfc21275e6",
   "metadata": {},
   "source": [
    "#### 2. 가져온 엑셀 객체를 데이터프레임으로 변환하기(sheet 이름 또는 index 사용)"
   ]
  },
  {
   "cell_type": "code",
   "execution_count": 10,
   "id": "c5df4e70-108e-472e-ac21-42bc3a8a3d28",
   "metadata": {},
   "outputs": [
    {
     "data": {
      "text/html": [
       "<div>\n",
       "<style scoped>\n",
       "    .dataframe tbody tr th:only-of-type {\n",
       "        vertical-align: middle;\n",
       "    }\n",
       "\n",
       "    .dataframe tbody tr th {\n",
       "        vertical-align: top;\n",
       "    }\n",
       "\n",
       "    .dataframe thead th {\n",
       "        text-align: right;\n",
       "    }\n",
       "</style>\n",
       "<table border=\"1\" class=\"dataframe\">\n",
       "  <thead>\n",
       "    <tr style=\"text-align: right;\">\n",
       "      <th></th>\n",
       "      <th>이름</th>\n",
       "      <th>학년</th>\n",
       "      <th>성별</th>\n",
       "      <th>국어</th>\n",
       "      <th>영어</th>\n",
       "      <th>수학</th>\n",
       "      <th>과학</th>\n",
       "    </tr>\n",
       "  </thead>\n",
       "  <tbody>\n",
       "    <tr>\n",
       "      <th>0</th>\n",
       "      <td>철수</td>\n",
       "      <td>1</td>\n",
       "      <td>남자</td>\n",
       "      <td>98</td>\n",
       "      <td>NaN</td>\n",
       "      <td>88.0</td>\n",
       "      <td>64.0</td>\n",
       "    </tr>\n",
       "    <tr>\n",
       "      <th>1</th>\n",
       "      <td>영희</td>\n",
       "      <td>2</td>\n",
       "      <td>여자</td>\n",
       "      <td>88</td>\n",
       "      <td>90.0</td>\n",
       "      <td>62.0</td>\n",
       "      <td>72.0</td>\n",
       "    </tr>\n",
       "    <tr>\n",
       "      <th>2</th>\n",
       "      <td>민수</td>\n",
       "      <td>1</td>\n",
       "      <td>남자</td>\n",
       "      <td>92</td>\n",
       "      <td>70.0</td>\n",
       "      <td>NaN</td>\n",
       "      <td>NaN</td>\n",
       "    </tr>\n",
       "    <tr>\n",
       "      <th>3</th>\n",
       "      <td>수현</td>\n",
       "      <td>3</td>\n",
       "      <td>여자</td>\n",
       "      <td>63</td>\n",
       "      <td>60.0</td>\n",
       "      <td>31.0</td>\n",
       "      <td>70.0</td>\n",
       "    </tr>\n",
       "    <tr>\n",
       "      <th>4</th>\n",
       "      <td>호영</td>\n",
       "      <td>4</td>\n",
       "      <td>남자</td>\n",
       "      <td>120</td>\n",
       "      <td>50.0</td>\n",
       "      <td>NaN</td>\n",
       "      <td>88.0</td>\n",
       "    </tr>\n",
       "  </tbody>\n",
       "</table>\n",
       "</div>"
      ],
      "text/plain": [
       "   이름  학년  성별   국어    영어    수학    과학\n",
       "0  철수   1  남자   98   NaN  88.0  64.0\n",
       "1  영희   2  여자   88  90.0  62.0  72.0\n",
       "2  민수   1  남자   92  70.0   NaN   NaN\n",
       "3  수현   3  여자   63  60.0  31.0  70.0\n",
       "4  호영   4  남자  120  50.0   NaN  88.0"
      ]
     },
     "execution_count": 10,
     "metadata": {},
     "output_type": "execute_result"
    }
   ],
   "source": [
    "# 시트 인덱스 사용\n",
    "df = xls1.parse(xls1.sheet_names[0])\n",
    "df"
   ]
  },
  {
   "cell_type": "code",
   "execution_count": 11,
   "id": "cf4e2413-3b32-4a6b-9597-6505a0a75cf7",
   "metadata": {},
   "outputs": [
    {
     "data": {
      "text/html": [
       "<div>\n",
       "<style scoped>\n",
       "    .dataframe tbody tr th:only-of-type {\n",
       "        vertical-align: middle;\n",
       "    }\n",
       "\n",
       "    .dataframe tbody tr th {\n",
       "        vertical-align: top;\n",
       "    }\n",
       "\n",
       "    .dataframe thead th {\n",
       "        text-align: right;\n",
       "    }\n",
       "</style>\n",
       "<table border=\"1\" class=\"dataframe\">\n",
       "  <thead>\n",
       "    <tr style=\"text-align: right;\">\n",
       "      <th></th>\n",
       "      <th>이름</th>\n",
       "      <th>학년</th>\n",
       "      <th>성별</th>\n",
       "      <th>국어</th>\n",
       "      <th>영어</th>\n",
       "      <th>수학</th>\n",
       "      <th>과학</th>\n",
       "    </tr>\n",
       "  </thead>\n",
       "  <tbody>\n",
       "    <tr>\n",
       "      <th>0</th>\n",
       "      <td>철수</td>\n",
       "      <td>1</td>\n",
       "      <td>남자</td>\n",
       "      <td>98</td>\n",
       "      <td>NaN</td>\n",
       "      <td>88.0</td>\n",
       "      <td>64.0</td>\n",
       "    </tr>\n",
       "    <tr>\n",
       "      <th>1</th>\n",
       "      <td>영희</td>\n",
       "      <td>2</td>\n",
       "      <td>여자</td>\n",
       "      <td>88</td>\n",
       "      <td>90.0</td>\n",
       "      <td>62.0</td>\n",
       "      <td>72.0</td>\n",
       "    </tr>\n",
       "    <tr>\n",
       "      <th>2</th>\n",
       "      <td>민수</td>\n",
       "      <td>1</td>\n",
       "      <td>남자</td>\n",
       "      <td>92</td>\n",
       "      <td>70.0</td>\n",
       "      <td>NaN</td>\n",
       "      <td>NaN</td>\n",
       "    </tr>\n",
       "    <tr>\n",
       "      <th>3</th>\n",
       "      <td>수현</td>\n",
       "      <td>3</td>\n",
       "      <td>여자</td>\n",
       "      <td>63</td>\n",
       "      <td>60.0</td>\n",
       "      <td>31.0</td>\n",
       "      <td>70.0</td>\n",
       "    </tr>\n",
       "    <tr>\n",
       "      <th>4</th>\n",
       "      <td>호영</td>\n",
       "      <td>4</td>\n",
       "      <td>남자</td>\n",
       "      <td>120</td>\n",
       "      <td>50.0</td>\n",
       "      <td>NaN</td>\n",
       "      <td>88.0</td>\n",
       "    </tr>\n",
       "  </tbody>\n",
       "</table>\n",
       "</div>"
      ],
      "text/plain": [
       "   이름  학년  성별   국어    영어    수학    과학\n",
       "0  철수   1  남자   98   NaN  88.0  64.0\n",
       "1  영희   2  여자   88  90.0  62.0  72.0\n",
       "2  민수   1  남자   92  70.0   NaN   NaN\n",
       "3  수현   3  여자   63  60.0  31.0  70.0\n",
       "4  호영   4  남자  120  50.0   NaN  88.0"
      ]
     },
     "execution_count": 11,
     "metadata": {},
     "output_type": "execute_result"
    }
   ],
   "source": [
    "# 시트 이름 사용\n",
    "df = xls1.parse('grade')\n",
    "df"
   ]
  },
  {
   "cell_type": "markdown",
   "id": "1bf7a90e-5e90-42a8-874e-b316f9fa92e9",
   "metadata": {},
   "source": [
    "## #3. 데이터에 접근하기\n",
    "\n",
    "### 1) 데이터 개요 확인\n",
    "\n",
    "#### 데이터의 크기\n",
    "\n",
    ">튜플 타입으로 행과 열의 크기가 반환된다. (행, 열)"
   ]
  },
  {
   "cell_type": "code",
   "execution_count": 12,
   "id": "ef58a117-aaaf-461a-8d24-1be92cf4042b",
   "metadata": {},
   "outputs": [
    {
     "data": {
      "text/plain": [
       "(5, 7)"
      ]
     },
     "execution_count": 12,
     "metadata": {},
     "output_type": "execute_result"
    }
   ],
   "source": [
    "size = df.shape\n",
    "size"
   ]
  },
  {
   "cell_type": "markdown",
   "id": "0c4b43d3-1dbd-47e6-ba2d-003f96f1dfaf",
   "metadata": {},
   "source": [
    "#### 튜플 이므로 행과 열을 구성하는 변수로 나눠서 저장 가능"
   ]
  },
  {
   "cell_type": "code",
   "execution_count": 13,
   "id": "f1c72a01-71a4-4460-922a-9a2b44661f95",
   "metadata": {},
   "outputs": [
    {
     "name": "stdout",
     "output_type": "stream",
     "text": [
      "5\n",
      "7\n"
     ]
    }
   ],
   "source": [
    "rows, cols = df.shape\n",
    "print(rows)\n",
    "print(cols)"
   ]
  },
  {
   "cell_type": "markdown",
   "id": "5bbcde4e-fcb5-4e55-b9e3-12a8364e4fbe",
   "metadata": {},
   "source": [
    "### 2) 상위 N건 확인하기\n",
    "#### 파라미터 숫자 만큼 확인 가능, 파라미터 숫자가 없으면 기본값 5건 확인"
   ]
  },
  {
   "cell_type": "code",
   "execution_count": 14,
   "id": "ed092738-2c94-4b41-bef3-a5b5ec19a478",
   "metadata": {},
   "outputs": [
    {
     "data": {
      "text/html": [
       "<div>\n",
       "<style scoped>\n",
       "    .dataframe tbody tr th:only-of-type {\n",
       "        vertical-align: middle;\n",
       "    }\n",
       "\n",
       "    .dataframe tbody tr th {\n",
       "        vertical-align: top;\n",
       "    }\n",
       "\n",
       "    .dataframe thead th {\n",
       "        text-align: right;\n",
       "    }\n",
       "</style>\n",
       "<table border=\"1\" class=\"dataframe\">\n",
       "  <thead>\n",
       "    <tr style=\"text-align: right;\">\n",
       "      <th></th>\n",
       "      <th>이름</th>\n",
       "      <th>학년</th>\n",
       "      <th>성별</th>\n",
       "      <th>국어</th>\n",
       "      <th>영어</th>\n",
       "      <th>수학</th>\n",
       "      <th>과학</th>\n",
       "    </tr>\n",
       "  </thead>\n",
       "  <tbody>\n",
       "    <tr>\n",
       "      <th>0</th>\n",
       "      <td>철수</td>\n",
       "      <td>1</td>\n",
       "      <td>남자</td>\n",
       "      <td>98</td>\n",
       "      <td>NaN</td>\n",
       "      <td>88.0</td>\n",
       "      <td>64.0</td>\n",
       "    </tr>\n",
       "    <tr>\n",
       "      <th>1</th>\n",
       "      <td>영희</td>\n",
       "      <td>2</td>\n",
       "      <td>여자</td>\n",
       "      <td>88</td>\n",
       "      <td>90.0</td>\n",
       "      <td>62.0</td>\n",
       "      <td>72.0</td>\n",
       "    </tr>\n",
       "    <tr>\n",
       "      <th>2</th>\n",
       "      <td>민수</td>\n",
       "      <td>1</td>\n",
       "      <td>남자</td>\n",
       "      <td>92</td>\n",
       "      <td>70.0</td>\n",
       "      <td>NaN</td>\n",
       "      <td>NaN</td>\n",
       "    </tr>\n",
       "  </tbody>\n",
       "</table>\n",
       "</div>"
      ],
      "text/plain": [
       "   이름  학년  성별  국어    영어    수학    과학\n",
       "0  철수   1  남자  98   NaN  88.0  64.0\n",
       "1  영희   2  여자  88  90.0  62.0  72.0\n",
       "2  민수   1  남자  92  70.0   NaN   NaN"
      ]
     },
     "execution_count": 14,
     "metadata": {},
     "output_type": "execute_result"
    }
   ],
   "source": [
    "top = df.head(3)\n",
    "top"
   ]
  },
  {
   "cell_type": "markdown",
   "id": "f2577f20-7310-4b35-be19-317de71186a3",
   "metadata": {},
   "source": [
    "### 3) 하위 N건 확인하기\n",
    "#### 파라미터 숫자 만큼 확인 가능, 파라미터 숫자가 없으면 기본값 5건 확인"
   ]
  },
  {
   "cell_type": "code",
   "execution_count": 15,
   "id": "ff26737b-0ef6-492b-a06c-8b3d3b19e6d5",
   "metadata": {},
   "outputs": [
    {
     "data": {
      "text/html": [
       "<div>\n",
       "<style scoped>\n",
       "    .dataframe tbody tr th:only-of-type {\n",
       "        vertical-align: middle;\n",
       "    }\n",
       "\n",
       "    .dataframe tbody tr th {\n",
       "        vertical-align: top;\n",
       "    }\n",
       "\n",
       "    .dataframe thead th {\n",
       "        text-align: right;\n",
       "    }\n",
       "</style>\n",
       "<table border=\"1\" class=\"dataframe\">\n",
       "  <thead>\n",
       "    <tr style=\"text-align: right;\">\n",
       "      <th></th>\n",
       "      <th>이름</th>\n",
       "      <th>학년</th>\n",
       "      <th>성별</th>\n",
       "      <th>국어</th>\n",
       "      <th>영어</th>\n",
       "      <th>수학</th>\n",
       "      <th>과학</th>\n",
       "    </tr>\n",
       "  </thead>\n",
       "  <tbody>\n",
       "    <tr>\n",
       "      <th>2</th>\n",
       "      <td>민수</td>\n",
       "      <td>1</td>\n",
       "      <td>남자</td>\n",
       "      <td>92</td>\n",
       "      <td>70.0</td>\n",
       "      <td>NaN</td>\n",
       "      <td>NaN</td>\n",
       "    </tr>\n",
       "    <tr>\n",
       "      <th>3</th>\n",
       "      <td>수현</td>\n",
       "      <td>3</td>\n",
       "      <td>여자</td>\n",
       "      <td>63</td>\n",
       "      <td>60.0</td>\n",
       "      <td>31.0</td>\n",
       "      <td>70.0</td>\n",
       "    </tr>\n",
       "    <tr>\n",
       "      <th>4</th>\n",
       "      <td>호영</td>\n",
       "      <td>4</td>\n",
       "      <td>남자</td>\n",
       "      <td>120</td>\n",
       "      <td>50.0</td>\n",
       "      <td>NaN</td>\n",
       "      <td>88.0</td>\n",
       "    </tr>\n",
       "  </tbody>\n",
       "</table>\n",
       "</div>"
      ],
      "text/plain": [
       "   이름  학년  성별   국어    영어    수학    과학\n",
       "2  민수   1  남자   92  70.0   NaN   NaN\n",
       "3  수현   3  여자   63  60.0  31.0  70.0\n",
       "4  호영   4  남자  120  50.0   NaN  88.0"
      ]
     },
     "execution_count": 15,
     "metadata": {},
     "output_type": "execute_result"
    }
   ],
   "source": [
    "tail = df.tail(3)\n",
    "tail"
   ]
  },
  {
   "cell_type": "markdown",
   "id": "9fbeff32-84bb-4a48-9448-e182c287114b",
   "metadata": {},
   "source": [
    "### 4) 인덱스 이름 확인하고, 리스트로 변환"
   ]
  },
  {
   "cell_type": "code",
   "execution_count": 16,
   "id": "a7a83e00-b07d-4f2b-bb94-fd48c5d44c1f",
   "metadata": {},
   "outputs": [
    {
     "data": {
      "text/plain": [
       "RangeIndex(start=0, stop=5, step=1)"
      ]
     },
     "execution_count": 16,
     "metadata": {},
     "output_type": "execute_result"
    }
   ],
   "source": [
    "df.index"
   ]
  },
  {
   "cell_type": "code",
   "execution_count": 17,
   "id": "e6beee95-5fda-4148-aac4-dde2740e398f",
   "metadata": {},
   "outputs": [
    {
     "data": {
      "text/plain": [
       "[0, 1, 2, 3, 4]"
      ]
     },
     "execution_count": 17,
     "metadata": {},
     "output_type": "execute_result"
    }
   ],
   "source": [
    "i_list = list(df.index)\n",
    "i_list"
   ]
  },
  {
   "cell_type": "markdown",
   "id": "f2acb004-d485-47b1-ba9f-35d287fb3d5c",
   "metadata": {},
   "source": [
    "### 5) 컬럼 이름 확인하고, 리스트로 변환"
   ]
  },
  {
   "cell_type": "code",
   "execution_count": 18,
   "id": "afdce439-9d40-4141-b858-0434db9d3c1f",
   "metadata": {},
   "outputs": [
    {
     "data": {
      "text/plain": [
       "Index(['이름', '학년', '성별', '국어', '영어', '수학', '과학'], dtype='object')"
      ]
     },
     "execution_count": 18,
     "metadata": {},
     "output_type": "execute_result"
    }
   ],
   "source": [
    "df.columns"
   ]
  },
  {
   "cell_type": "code",
   "execution_count": 19,
   "id": "4e1ed51a-a43c-4241-90fd-24982956a24d",
   "metadata": {},
   "outputs": [
    {
     "data": {
      "text/plain": [
       "['이름', '학년', '성별', '국어', '영어', '수학', '과학']"
      ]
     },
     "execution_count": 19,
     "metadata": {},
     "output_type": "execute_result"
    }
   ],
   "source": [
    "c_list = list(df.columns)\n",
    "c_list"
   ]
  },
  {
   "cell_type": "markdown",
   "id": "b9410186-61fd-4894-99cc-1cf7f1003c6d",
   "metadata": {},
   "source": [
    "### 6) 데이터의 값들만 확인하고, 리스트로 변환\n",
    "#### 2차원 배열로 반환된다."
   ]
  },
  {
   "cell_type": "code",
   "execution_count": 20,
   "id": "965e1f06-f13c-4484-9501-fad30b0d2311",
   "metadata": {},
   "outputs": [
    {
     "data": {
      "text/plain": [
       "array([['철수', 1, '남자', 98, nan, 88.0, 64.0],\n",
       "       ['영희', 2, '여자', 88, 90.0, 62.0, 72.0],\n",
       "       ['민수', 1, '남자', 92, 70.0, nan, nan],\n",
       "       ['수현', 3, '여자', 63, 60.0, 31.0, 70.0],\n",
       "       ['호영', 4, '남자', 120, 50.0, nan, 88.0]], dtype=object)"
      ]
     },
     "execution_count": 20,
     "metadata": {},
     "output_type": "execute_result"
    }
   ],
   "source": [
    "df.values"
   ]
  },
  {
   "cell_type": "code",
   "execution_count": 21,
   "id": "79519e55-1146-47d5-beec-9100c470281d",
   "metadata": {},
   "outputs": [
    {
     "data": {
      "text/plain": [
       "numpy.ndarray"
      ]
     },
     "execution_count": 21,
     "metadata": {},
     "output_type": "execute_result"
    }
   ],
   "source": [
    "type(df.values)"
   ]
  },
  {
   "cell_type": "markdown",
   "id": "e5ab49b9-916e-4daf-b5c3-f9c86b93a8f3",
   "metadata": {},
   "source": [
    "### 7) 전치 구하기\n",
    "\n",
    "#### 행과 열이 서로 바뀐 형태"
   ]
  },
  {
   "cell_type": "code",
   "execution_count": 22,
   "id": "7f426714-80d2-4fb8-ac21-7f2615df8ad0",
   "metadata": {},
   "outputs": [
    {
     "data": {
      "text/html": [
       "<div>\n",
       "<style scoped>\n",
       "    .dataframe tbody tr th:only-of-type {\n",
       "        vertical-align: middle;\n",
       "    }\n",
       "\n",
       "    .dataframe tbody tr th {\n",
       "        vertical-align: top;\n",
       "    }\n",
       "\n",
       "    .dataframe thead th {\n",
       "        text-align: right;\n",
       "    }\n",
       "</style>\n",
       "<table border=\"1\" class=\"dataframe\">\n",
       "  <thead>\n",
       "    <tr style=\"text-align: right;\">\n",
       "      <th></th>\n",
       "      <th>0</th>\n",
       "      <th>1</th>\n",
       "      <th>2</th>\n",
       "      <th>3</th>\n",
       "      <th>4</th>\n",
       "    </tr>\n",
       "  </thead>\n",
       "  <tbody>\n",
       "    <tr>\n",
       "      <th>이름</th>\n",
       "      <td>철수</td>\n",
       "      <td>영희</td>\n",
       "      <td>민수</td>\n",
       "      <td>수현</td>\n",
       "      <td>호영</td>\n",
       "    </tr>\n",
       "    <tr>\n",
       "      <th>학년</th>\n",
       "      <td>1</td>\n",
       "      <td>2</td>\n",
       "      <td>1</td>\n",
       "      <td>3</td>\n",
       "      <td>4</td>\n",
       "    </tr>\n",
       "    <tr>\n",
       "      <th>성별</th>\n",
       "      <td>남자</td>\n",
       "      <td>여자</td>\n",
       "      <td>남자</td>\n",
       "      <td>여자</td>\n",
       "      <td>남자</td>\n",
       "    </tr>\n",
       "    <tr>\n",
       "      <th>국어</th>\n",
       "      <td>98</td>\n",
       "      <td>88</td>\n",
       "      <td>92</td>\n",
       "      <td>63</td>\n",
       "      <td>120</td>\n",
       "    </tr>\n",
       "    <tr>\n",
       "      <th>영어</th>\n",
       "      <td>NaN</td>\n",
       "      <td>90.0</td>\n",
       "      <td>70.0</td>\n",
       "      <td>60.0</td>\n",
       "      <td>50.0</td>\n",
       "    </tr>\n",
       "    <tr>\n",
       "      <th>수학</th>\n",
       "      <td>88.0</td>\n",
       "      <td>62.0</td>\n",
       "      <td>NaN</td>\n",
       "      <td>31.0</td>\n",
       "      <td>NaN</td>\n",
       "    </tr>\n",
       "    <tr>\n",
       "      <th>과학</th>\n",
       "      <td>64.0</td>\n",
       "      <td>72.0</td>\n",
       "      <td>NaN</td>\n",
       "      <td>70.0</td>\n",
       "      <td>88.0</td>\n",
       "    </tr>\n",
       "  </tbody>\n",
       "</table>\n",
       "</div>"
      ],
      "text/plain": [
       "       0     1     2     3     4\n",
       "이름    철수    영희    민수    수현    호영\n",
       "학년     1     2     1     3     4\n",
       "성별    남자    여자    남자    여자    남자\n",
       "국어    98    88    92    63   120\n",
       "영어   NaN  90.0  70.0  60.0  50.0\n",
       "수학  88.0  62.0   NaN  31.0   NaN\n",
       "과학  64.0  72.0   NaN  70.0  88.0"
      ]
     },
     "execution_count": 22,
     "metadata": {},
     "output_type": "execute_result"
    }
   ],
   "source": [
    "df_t = df.T\n",
    "df_t"
   ]
  },
  {
   "cell_type": "markdown",
   "id": "1c32da24-d203-4ab7-abc8-7ecfc3e55f75",
   "metadata": {},
   "source": [
    "### 8) 각 `열`단위 데이터 접근\n",
    "#### 각 열마다 데이터타입 확인하기"
   ]
  },
  {
   "cell_type": "code",
   "execution_count": 23,
   "id": "b7c8cf84-ccf1-48b4-82d9-ea385dedff30",
   "metadata": {},
   "outputs": [
    {
     "data": {
      "text/plain": [
       "이름     object\n",
       "학년      int64\n",
       "성별     object\n",
       "국어      int64\n",
       "영어    float64\n",
       "수학    float64\n",
       "과학    float64\n",
       "dtype: object"
      ]
     },
     "execution_count": 23,
     "metadata": {},
     "output_type": "execute_result"
    }
   ],
   "source": [
    "df.dtypes"
   ]
  },
  {
   "cell_type": "markdown",
   "id": "bf87c0f0-a805-4f9b-b67e-52584e07c7ba",
   "metadata": {},
   "source": [
    "#### 특정 열에 대한 데이터타입과 값 확인하기\n",
    "> 데이터프레임에서 열은 시리즈 이다."
   ]
  },
  {
   "cell_type": "code",
   "execution_count": 24,
   "id": "9c964f85-17b3-4909-8e57-05b1dbc44a3a",
   "metadata": {},
   "outputs": [
    {
     "data": {
      "text/plain": [
       "0     98\n",
       "1     88\n",
       "2     92\n",
       "3     63\n",
       "4    120\n",
       "Name: 국어, dtype: int64"
      ]
     },
     "execution_count": 24,
     "metadata": {},
     "output_type": "execute_result"
    }
   ],
   "source": [
    "df[\"국어\"]"
   ]
  },
  {
   "cell_type": "code",
   "execution_count": 25,
   "id": "0cd2acac-30f6-4c80-bd71-9841bd14cd39",
   "metadata": {},
   "outputs": [
    {
     "data": {
      "text/plain": [
       "pandas.core.series.Series"
      ]
     },
     "execution_count": 25,
     "metadata": {},
     "output_type": "execute_result"
    }
   ],
   "source": [
    "type(df['국어'])"
   ]
  },
  {
   "cell_type": "markdown",
   "id": "0e1dbecd-c921-4c97-b7d0-511f1453f1a0",
   "metadata": {},
   "source": [
    "#### 특정 열의 값들을 numpy 배열로 변환"
   ]
  },
  {
   "cell_type": "code",
   "execution_count": 26,
   "id": "ab0c90d3-313f-4be3-b286-1c382f69ccde",
   "metadata": {},
   "outputs": [
    {
     "name": "stdout",
     "output_type": "stream",
     "text": [
      "[ 98  88  92  63 120] <class 'numpy.ndarray'>\n"
     ]
    }
   ],
   "source": [
    "arr = df['국어'].values\n",
    "print(arr, type(arr))"
   ]
  },
  {
   "cell_type": "markdown",
   "id": "7002c6f6-0edf-4cb1-8f63-aad15531bcfd",
   "metadata": {},
   "source": [
    "#### 특정 열의 값들을 리스트로 변환"
   ]
  },
  {
   "cell_type": "code",
   "execution_count": 27,
   "id": "a7839e68-1cbb-4f4a-86c4-41a8322948c0",
   "metadata": {},
   "outputs": [
    {
     "name": "stdout",
     "output_type": "stream",
     "text": [
      "[98, 88, 92, 63, 120] <class 'list'>\n"
     ]
    }
   ],
   "source": [
    "lis = list(df['국어'])\n",
    "print(lis, type(lis))"
   ]
  },
  {
   "cell_type": "markdown",
   "id": "de3b4c4f-59ad-4baa-a8c5-5f2d851381ad",
   "metadata": {},
   "source": [
    "### 9) 각 행 단위 데이터 접근\n",
    "> 반드시 `loc`이라는 속성을 통해서 접근해야 한다.<br>\n",
    "> 데이터프레임에서 행도 `시리즈`이다."
   ]
  },
  {
   "cell_type": "code",
   "execution_count": 28,
   "id": "2ab29718-17e2-445d-a086-d8ddc90ab731",
   "metadata": {},
   "outputs": [
    {
     "data": {
      "text/plain": [
       "이름      철수\n",
       "학년       1\n",
       "성별      남자\n",
       "국어      98\n",
       "영어     NaN\n",
       "수학    88.0\n",
       "과학    64.0\n",
       "Name: 0, dtype: object"
      ]
     },
     "execution_count": 28,
     "metadata": {},
     "output_type": "execute_result"
    }
   ],
   "source": [
    "cs = df.loc[0]\n",
    "cs"
   ]
  },
  {
   "cell_type": "code",
   "execution_count": 29,
   "id": "7f965fdd-919d-4272-bf98-26d511dba068",
   "metadata": {},
   "outputs": [
    {
     "data": {
      "text/plain": [
       "pandas.core.series.Series"
      ]
     },
     "execution_count": 29,
     "metadata": {},
     "output_type": "execute_result"
    }
   ],
   "source": [
    "type(cs)"
   ]
  },
  {
   "cell_type": "markdown",
   "id": "6baa5023-55d6-46e0-bcdc-833e63185d1f",
   "metadata": {},
   "source": [
    "#### 특정 행의 값들을 numpy 배열로 변환"
   ]
  },
  {
   "cell_type": "code",
   "execution_count": null,
   "id": "3d42c792-445c-499d-ac10-2cb80aa98543",
   "metadata": {},
   "outputs": [],
   "source": []
  },
  {
   "cell_type": "markdown",
   "id": "9482eef7-6401-495d-91fc-74e1c4ce5d6a",
   "metadata": {},
   "source": [
    "#### 특정 행의 값들을 리스트로 변환"
   ]
  },
  {
   "cell_type": "code",
   "execution_count": null,
   "id": "5cc86769-7d23-44ff-a17d-54be5cfbe659",
   "metadata": {},
   "outputs": [],
   "source": []
  },
  {
   "cell_type": "code",
   "execution_count": null,
   "id": "f5ff7dc9-c72d-429b-aba0-8c8c79af8a76",
   "metadata": {},
   "outputs": [],
   "source": []
  },
  {
   "cell_type": "code",
   "execution_count": null,
   "id": "0c3e8fc3-5d95-4eee-ab3d-f014f7ed453c",
   "metadata": {},
   "outputs": [],
   "source": []
  },
  {
   "cell_type": "code",
   "execution_count": null,
   "id": "e92d0725-2cd2-440e-96fb-79ed2a4e30fb",
   "metadata": {},
   "outputs": [],
   "source": []
  },
  {
   "cell_type": "code",
   "execution_count": null,
   "id": "d89eced4-65ba-43ca-80e3-dd576a5a01e9",
   "metadata": {},
   "outputs": [],
   "source": []
  },
  {
   "cell_type": "code",
   "execution_count": null,
   "id": "83c3e617-baff-4c2b-851b-a84e97a1131c",
   "metadata": {},
   "outputs": [],
   "source": []
  },
  {
   "cell_type": "code",
   "execution_count": null,
   "id": "8b44753b-756e-47a5-a20b-48b8a96083a6",
   "metadata": {},
   "outputs": [],
   "source": []
  },
  {
   "cell_type": "code",
   "execution_count": null,
   "id": "3619eb1d-256a-4c76-a7f0-78a2bdb5ceaf",
   "metadata": {},
   "outputs": [],
   "source": []
  },
  {
   "cell_type": "code",
   "execution_count": null,
   "id": "8d4edca8-75af-4d63-95fb-2b214aa4d932",
   "metadata": {},
   "outputs": [],
   "source": []
  }
 ],
 "metadata": {
  "kernelspec": {
   "display_name": "Python 3 (ipykernel)",
   "language": "python",
   "name": "python3"
  },
  "language_info": {
   "codemirror_mode": {
    "name": "ipython",
    "version": 3
   },
   "file_extension": ".py",
   "mimetype": "text/x-python",
   "name": "python",
   "nbconvert_exporter": "python",
   "pygments_lexer": "ipython3",
   "version": "3.11.7"
  }
 },
 "nbformat": 4,
 "nbformat_minor": 5
}
